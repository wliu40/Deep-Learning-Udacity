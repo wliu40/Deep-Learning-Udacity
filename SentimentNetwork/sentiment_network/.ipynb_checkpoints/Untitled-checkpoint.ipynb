{
 "cells": [
  {
   "cell_type": "markdown",
   "metadata": {},
   "source": [
    "### from collections import Counter\n",
    "### counts = Counter"
   ]
  },
  {
   "cell_type": "markdown",
   "metadata": {},
   "source": [
    "### Bag of Words (词袋)\n",
    "A good property to extract from a text corpus is the frequency of words. In Andrew Trask's lesson, he took the frequency of words for negative and positive movie reviews. This representation of the data is know as Bag of Words.\n",
    "\n",
    "A bag of words is usually represented as a dictionary. The key is the word and the value is the number of times a word appears in the text. For example, the sentence \"the fox jumps over the lazy dog\" would become:\n",
    "\n",
    "{'the': 2, 'jumps': 1, 'lazy': 1, 'over': 1, 'fox': 1, 'dog': 1}"
   ]
  },
  {
   "cell_type": "code",
   "execution_count": 5,
   "metadata": {
    "collapsed": false
   },
   "outputs": [
    {
     "name": "stdout",
     "output_type": "stream",
     "text": [
      "Counter({'a': 2, 'c': 2, 'b': 1, 'd': 1})\n"
     ]
    }
   ],
   "source": [
    "from collections import Counter\n",
    "char_list = ['a', 'b','a', 'c','d','c']\n",
    "char_counts = Counter()\n",
    "\n",
    "for char in char_list:\n",
    "    char_counts[char] += 1\n",
    "print (char_counts)"
   ]
  },
  {
   "cell_type": "code",
   "execution_count": 31,
   "metadata": {
    "collapsed": false
   },
   "outputs": [
    {
     "name": "stdout",
     "output_type": "stream",
     "text": [
      "Counter({'a': 2, 'c': 2, 'b': 1, 'd': 1})\n"
     ]
    }
   ],
   "source": [
    "### or\n",
    "\n",
    "print ( Counter(char_list) )"
   ]
  },
  {
   "cell_type": "code",
   "execution_count": 35,
   "metadata": {
    "collapsed": false
   },
   "outputs": [
    {
     "name": "stdout",
     "output_type": "stream",
     "text": [
      "Counter({'a': 2, 'also': 1, 'is': 1, 'teacher,': 1, 'he': 1, 'i': 1, 'teacher': 1, 'am': 1})\n"
     ]
    }
   ],
   "source": [
    "words = \"i am a teacher, he is also a teacher\"\n",
    "print (Counter(words.split()))"
   ]
  },
  {
   "cell_type": "code",
   "execution_count": 36,
   "metadata": {
    "collapsed": false
   },
   "outputs": [
    {
     "data": {
      "text/plain": [
       "[('a', 2), ('c', 2), ('b', 1), ('d', 1)]"
      ]
     },
     "execution_count": 36,
     "metadata": {},
     "output_type": "execute_result"
    }
   ],
   "source": [
    "char_counts.most_common()"
   ]
  },
  {
   "cell_type": "code",
   "execution_count": 37,
   "metadata": {
    "collapsed": false
   },
   "outputs": [
    {
     "name": "stdout",
     "output_type": "stream",
     "text": [
      "a\n",
      "c\n"
     ]
    }
   ],
   "source": [
    "for char, counts in list(char_counts.most_common()):\n",
    "    if counts >= 2:\n",
    "        print (char)\n",
    "        "
   ]
  },
  {
   "cell_type": "code",
   "execution_count": 38,
   "metadata": {
    "collapsed": false
   },
   "outputs": [
    {
     "name": "stdout",
     "output_type": "stream",
     "text": [
      "0\n"
     ]
    }
   ],
   "source": [
    "### what if we try to find the count of a not exist element?\n",
    "print (char_counts['f'])"
   ]
  },
  {
   "cell_type": "markdown",
   "metadata": {},
   "source": [
    "### enumerate()"
   ]
  },
  {
   "cell_type": "code",
   "execution_count": 41,
   "metadata": {
    "collapsed": false
   },
   "outputs": [
    {
     "name": "stdout",
     "output_type": "stream",
     "text": [
      "{'f', 'a', 'b', 'c', 'd'}\n",
      "f 0\n",
      "a 1\n",
      "b 2\n",
      "c 3\n",
      "d 4\n",
      "{'f': 0, 'a': 1, 'b': 2, 'd': 4, 'c': 3}\n",
      "5\n"
     ]
    }
   ],
   "source": [
    "char_set = set(['f','a','b','a','c','d','a'])\n",
    "print(char_set)\n",
    "char_dic = {}\n",
    "for idx, element in enumerate(char_set):\n",
    "    print (element,idx)\n",
    "    char_dic[element] = idx\n",
    "print(char_dic)\n",
    "print(len(char_dic))"
   ]
  },
  {
   "cell_type": "code",
   "execution_count": 71,
   "metadata": {
    "collapsed": false
   },
   "outputs": [
    {
     "name": "stdout",
     "output_type": "stream",
     "text": [
      "{'f', 'a', 'b', 'c', 'd'}\n",
      "---------------------\n",
      "[0, 1, 1, 1, 1]\n",
      "[1, 1, 1, 0, 0]\n",
      "[0, 1, 1, 1, 2]\n",
      "[0, 1, 0, 2, 0]\n",
      "[2, 1, 1, 1, 0]\n"
     ]
    }
   ],
   "source": [
    "## 我们已经建立了如下的码表：{'f': 0, 'a': 1, 'b': 2, 'd': 4, 'c': 3} \n",
    "## 类似于ASCII， word2index的作用是把一个词，按照“码表”转化为输入层的数据, 输入层有5个节点\n",
    "## 比如，输入“affb”, 那么输出： [2 1 1 0 0]\n",
    "\n",
    "import numpy as np\n",
    "\n",
    "def word2index(word):\n",
    "    result_vec = [0 for i in range(len(char_dic))]##初始化，长度为码表的大小的零向量\n",
    "    for char in word:\n",
    "        result_vec[char_dic[char]] += 1\n",
    "        #result_vec[char_dic[char]] = Counter(word)[char] #or use Counter() again~\n",
    "    return result_vec\n",
    "\n",
    "words = [\"abcd\", \"abf\", \"bcdda\", \"acc\", \"affcb\"]\n",
    "print(char_set)\n",
    "print(\"---------------------\")\n",
    "for word in words:\n",
    "    print(word2index(word))\n"
   ]
  },
  {
   "cell_type": "code",
   "execution_count": null,
   "metadata": {
    "collapsed": true
   },
   "outputs": [],
   "source": []
  }
 ],
 "metadata": {
  "anaconda-cloud": {},
  "kernelspec": {
   "display_name": "Python [default]",
   "language": "python",
   "name": "python3"
  },
  "language_info": {
   "codemirror_mode": {
    "name": "ipython",
    "version": 3
   },
   "file_extension": ".py",
   "mimetype": "text/x-python",
   "name": "python",
   "nbconvert_exporter": "python",
   "pygments_lexer": "ipython3",
   "version": "3.5.2"
  }
 },
 "nbformat": 4,
 "nbformat_minor": 1
}
