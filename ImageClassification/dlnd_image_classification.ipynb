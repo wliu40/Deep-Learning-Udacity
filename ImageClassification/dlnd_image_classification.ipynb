{
 "cells": [
  {
   "cell_type": "markdown",
   "metadata": {
    "collapsed": true
   },
   "source": [
    "# Image Classification\n",
    "In this project, you'll classify images from the [CIFAR-10 dataset](https://www.cs.toronto.edu/~kriz/cifar.html).  The dataset consists of airplanes, dogs, cats, and other objects. You'll preprocess the images, then train a convolutional neural network on all the samples. The images need to be normalized and the labels need to be one-hot encoded.  You'll get to apply what you learned and build a convolutional, max pooling, dropout, and fully connected layers.  At the end, you'll get to see your neural network's predictions on the sample images.\n",
    "## Get the Data\n",
    "Run the following cell to download the [CIFAR-10 dataset for python](https://www.cs.toronto.edu/~kriz/cifar-10-python.tar.gz)."
   ]
  },
  {
   "cell_type": "code",
   "execution_count": 24,
   "metadata": {
    "collapsed": false
   },
   "outputs": [
    {
     "name": "stdout",
     "output_type": "stream",
     "text": [
      "All files found!\n"
     ]
    }
   ],
   "source": [
    "\"\"\"\n",
    "DON'T MODIFY ANYTHING IN THIS CELL THAT IS BELOW THIS LINE\n",
    "\"\"\"\n",
    "from urllib.request import urlretrieve\n",
    "from os.path import isfile, isdir\n",
    "from tqdm import tqdm\n",
    "import problem_unittests as tests\n",
    "import tarfile\n",
    "\n",
    "cifar10_dataset_folder_path = 'cifar-10-batches-py'\n",
    "\n",
    "class DLProgress(tqdm):\n",
    "    last_block = 0\n",
    "\n",
    "    def hook(self, block_num=1, block_size=1, total_size=None):\n",
    "        self.total = total_size\n",
    "        self.update((block_num - self.last_block) * block_size)\n",
    "        self.last_block = block_num\n",
    "\n",
    "if not isfile('cifar-10-python.tar.gz'):\n",
    "    with DLProgress(unit='B', unit_scale=True, miniters=1, desc='CIFAR-10 Dataset') as pbar:\n",
    "        urlretrieve(\n",
    "            'https://www.cs.toronto.edu/~kriz/cifar-10-python.tar.gz',\n",
    "            'cifar-10-python.tar.gz',\n",
    "            pbar.hook)\n",
    "\n",
    "if not isdir(cifar10_dataset_folder_path):\n",
    "    with tarfile.open('cifar-10-python.tar.gz') as tar:\n",
    "        tar.extractall()\n",
    "        tar.close()\n",
    "\n",
    "\n",
    "tests.test_folder_path(cifar10_dataset_folder_path)"
   ]
  },
  {
   "cell_type": "markdown",
   "metadata": {},
   "source": [
    "## Explore the Data\n",
    "The dataset is broken into batches to prevent your machine from running out of memory.  The CIFAR-10 dataset consists of 5 batches, named `data_batch_1`, `data_batch_2`, etc.. Each batch contains the labels and images that are one of the following:\n",
    "* airplane\n",
    "* automobile\n",
    "* bird\n",
    "* cat\n",
    "* deer\n",
    "* dog\n",
    "* frog\n",
    "* horse\n",
    "* ship\n",
    "* truck\n",
    "\n",
    "Understanding a dataset is part of making predictions on the data.  Play around with the code cell below by changing the `batch_id` and `sample_id`. The `batch_id` is the id for a batch (1-5). The `sample_id` is the id for a image and label pair in the batch.\n",
    "\n",
    "Ask yourself \"What are all possible labels?\", \"What is the range of values for the image data?\", \"Are the labels in order or random?\".  Answers to questions like these will help you preprocess the data and end up with better predictions."
   ]
  },
  {
   "cell_type": "code",
   "execution_count": 25,
   "metadata": {
    "collapsed": false
   },
   "outputs": [
    {
     "name": "stdout",
     "output_type": "stream",
     "text": [
      "\n",
      "Stats of batch 3:\n",
      "Samples: 10000\n",
      "Label Counts: {0: 994, 1: 1042, 2: 965, 3: 997, 4: 990, 5: 1029, 6: 978, 7: 1015, 8: 961, 9: 1029}\n",
      "First 20 Labels: [8, 5, 0, 6, 9, 2, 8, 3, 6, 2, 7, 4, 6, 9, 0, 0, 7, 3, 7, 2]\n",
      "\n",
      "Example of Image 6:\n",
      "Image - Min Value: 30 Max Value: 242\n",
      "Image - Shape: (32, 32, 3)\n",
      "Label - Label Id: 8 Name: ship\n"
     ]
    },
    {
     "data": {
      "image/png": "[encoded data removed]",
      "text/plain": [
       "<matplotlib.figure.Figure at 0x22e086620f0>"
      ]
     },
     "metadata": {
      "image/png": {
       "height": 250,
       "width": 253
      }
     },
     "output_type": "display_data"
    }
   ],
   "source": [
    "%matplotlib inline\n",
    "%config InlineBackend.figure_format = 'retina'\n",
    "\n",
    "import helper\n",
    "import numpy as np\n",
    "\n",
    "# Explore the dataset\n",
    "batch_id = 3\n",
    "sample_id = 6\n",
    "helper.display_stats(cifar10_dataset_folder_path, batch_id, sample_id)"
   ]
  },
  {
   "cell_type": "markdown",
   "metadata": {},
   "source": [
    "## Implement Preprocess Functions\n",
    "### Normalize\n",
    "In the cell below, implement the `normalize` function to take in image data, `x`, and return it as a normalized Numpy array. The values should be in the range of 0 to 1, inclusive.  The return object should be the same shape as `x`."
   ]
  },
  {
   "cell_type": "code",
   "execution_count": 26,
   "metadata": {
    "collapsed": false
   },
   "outputs": [
    {
     "name": "stdout",
     "output_type": "stream",
     "text": [
      "Tests Passed\n"
     ]
    }
   ],
   "source": [
    "def normalize(x):\n",
    "    \"\"\"\n",
    "    Normalize a list of sample image data in the range of 0 to 1\n",
    "    : x: List of image data.  The image shape is (32, 32, 3)\n",
    "    : return: Numpy array of normalize data\n",
    "    \"\"\"\n",
    "    # TODO: Implement Function\n",
    "    x_min = x.min(axis=(1, 2), keepdims=True)\n",
    "    x_max = x.max(axis=(1, 2), keepdims=True)\n",
    "    x = (x - x_min)/(x_max - x_min)\n",
    "    return x\n",
    "\n",
    "\n",
    "\"\"\"\n",
    "DON'T MODIFY ANYTHING IN THIS CELL THAT IS BELOW THIS LINE\n",
    "\"\"\"\n",
    "tests.test_normalize(normalize)\n"
   ]
  },
  {
   "cell_type": "markdown",
   "metadata": {},
   "source": [
    "### One-hot encode\n",
    "Just like the previous code cell, you'll be implementing a function for preprocessing.  This time, you'll implement the `one_hot_encode` function. The input, `x`, are a list of labels.  Implement the function to return the list of labels as One-Hot encoded Numpy array.  The possible values for labels are 0 to 9. The one-hot encoding function should return the same encoding for each value between each call to `one_hot_encode`.  Make sure to save the map of encodings outside the function.\n",
    "\n",
    "Hint: Don't reinvent the wheel."
   ]
  },
  {
   "cell_type": "code",
   "execution_count": 28,
   "metadata": {
    "collapsed": false
   },
   "outputs": [
    {
     "name": "stdout",
     "output_type": "stream",
     "text": [
      "Tests Passed\n"
     ]
    }
   ],
   "source": [
    "def one_hot_encode(x):\n",
    "    \"\"\"\n",
    "    One hot encode a list of sample labels. Return a one-hot encoded vector for each label.\n",
    "    : x: List of sample Labels\n",
    "    : return: Numpy array of one-hot encoded labels\n",
    "    \"\"\"\n",
    "    # TODO: Implement Function\n",
    "    n_values = np.max(x) + 1\n",
    "    res = np.eye(n_values)[x]\n",
    "    return res\n",
    "\"\"\"\n",
    "DON'T MODIFY ANYTHING IN THIS CELL THAT IS BELOW THIS LINE\n",
    "\"\"\"\n",
    "tests.test_one_hot_encode(one_hot_encode)"
   ]
  },
  {
   "cell_type": "markdown",
   "metadata": {},
   "source": [
    "### Randomize Data\n",
    "As you saw from exploring the data above, the order of the samples are randomized.  It doesn't hurt to randomize it again, but you don't need to for this dataset."
   ]
  },
  {
   "cell_type": "markdown",
   "metadata": {},
   "source": [
    "## Preprocess all the data and save it\n",
    "Running the code cell below will preprocess all the CIFAR-10 data and save it to file. The code below also uses 10% of the training data for validation."
   ]
  },
  {
   "cell_type": "code",
   "execution_count": 29,
   "metadata": {
    "collapsed": false
   },
   "outputs": [],
   "source": [
    "\"\"\"\n",
    "DON'T MODIFY ANYTHING IN THIS CELL\n",
    "\"\"\"\n",
    "# Preprocess Training, Validation, and Testing Data\n",
    "helper.preprocess_and_save_data(cifar10_dataset_folder_path, normalize, one_hot_encode)"
   ]
  },
  {
   "cell_type": "markdown",
   "metadata": {},
   "source": [
    "# Check Point\n",
    "This is your first checkpoint.  If you ever decide to come back to this notebook or have to restart the notebook, you can start from here.  The preprocessed data has been saved to disk."
   ]
  },
  {
   "cell_type": "code",
   "execution_count": 30,
   "metadata": {
    "collapsed": true
   },
   "outputs": [],
   "source": [
    "\"\"\"\n",
    "DON'T MODIFY ANYTHING IN THIS CELL\n",
    "\"\"\"\n",
    "import pickle\n",
    "import problem_unittests as tests\n",
    "import helper\n",
    "\n",
    "# Load the Preprocessed Validation data\n",
    "valid_features, valid_labels = pickle.load(open('preprocess_validation.p', mode='rb'))"
   ]
  },
  {
   "cell_type": "markdown",
   "metadata": {},
   "source": [
    "## Build the network\n",
    "For the neural network, you'll build each layer into a function.  Most of the code you've seen has been outside of functions. To test your code more thoroughly, we require that you put each layer in a function.  This allows us to give you better feedback and test for simple mistakes using our unittests before you submit your project.\n",
    "\n",
    ">**Note:** If you're finding it hard to dedicate enough time for this course each week, we've provided a small shortcut to this part of the project. In the next couple of problems, you'll have the option to use classes from the [TensorFlow Layers](https://www.tensorflow.org/api_docs/python/tf/layers) or [TensorFlow Layers (contrib)](https://www.tensorflow.org/api_guides/python/contrib.layers) packages to build each layer, except the layers you build in the \"Convolutional and Max Pooling Layer\" section.  TF Layers is similar to Keras's and TFLearn's abstraction to layers, so it's easy to pickup.\n",
    "\n",
    ">However, if you would like to get the most out of this course, try to solve all the problems _without_ using anything from the TF Layers packages. You **can** still use classes from other packages that happen to have the same name as ones you find in TF Layers! For example, instead of using the TF Layers version of the `conv2d` class, [tf.layers.conv2d](https://www.tensorflow.org/api_docs/python/tf/layers/conv2d), you would want to use the TF Neural Network version of `conv2d`, [tf.nn.conv2d](https://www.tensorflow.org/api_docs/python/tf/nn/conv2d). \n",
    "\n",
    "Let's begin!\n",
    "\n",
    "### Input\n",
    "The neural network needs to read the image data, one-hot encoded labels, and dropout keep probability. Implement the following functions\n",
    "* Implement `neural_net_image_input`\n",
    " * Return a [TF Placeholder](https://www.tensorflow.org/api_docs/python/tf/placeholder)\n",
    " * Set the shape using `image_shape` with batch size set to `None`.\n",
    " * Name the TensorFlow placeholder \"x\" using the TensorFlow `name` parameter in the [TF Placeholder](https://www.tensorflow.org/api_docs/python/tf/placeholder).\n",
    "* Implement `neural_net_label_input`\n",
    " * Return a [TF Placeholder](https://www.tensorflow.org/api_docs/python/tf/placeholder)\n",
    " * Set the shape using `n_classes` with batch size set to `None`.\n",
    " * Name the TensorFlow placeholder \"y\" using the TensorFlow `name` parameter in the [TF Placeholder](https://www.tensorflow.org/api_docs/python/tf/placeholder).\n",
    "* Implement `neural_net_keep_prob_input`\n",
    " * Return a [TF Placeholder](https://www.tensorflow.org/api_docs/python/tf/placeholder) for dropout keep probability.\n",
    " * Name the TensorFlow placeholder \"keep_prob\" using the TensorFlow `name` parameter in the [TF Placeholder](https://www.tensorflow.org/api_docs/python/tf/placeholder).\n",
    "\n",
    "These names will be used at the end of the project to load your saved model.\n",
    "\n",
    "Note: `None` for shapes in TensorFlow allow for a dynamic size."
   ]
  },
  {
   "cell_type": "code",
   "execution_count": 31,
   "metadata": {
    "collapsed": false
   },
   "outputs": [
    {
     "name": "stdout",
     "output_type": "stream",
     "text": [
      "Image Input Tests Passed.\n",
      "Label Input Tests Passed.\n",
      "Keep Prob Tests Passed.\n"
     ]
    }
   ],
   "source": [
    "import tensorflow as tf\n",
    "\n",
    "def neural_net_image_input(image_shape):\n",
    "    \"\"\"\n",
    "    Return a Tensor for a batch of image input\n",
    "    : image_shape: Shape of the images\n",
    "    : return: Tensor for image input.\n",
    "    \"\"\"\n",
    "    # TODO: Implement Function\n",
    "    # the None means the instances number is random\n",
    "    return tf.placeholder(tf.float32, shape = [None, image_shape[0], image_shape[1], image_shape[2]], name = 'x')\n",
    "\n",
    "\n",
    "def neural_net_label_input(n_classes):\n",
    "    \"\"\"\n",
    "    Return a Tensor for a batch of label input\n",
    "    : n_classes: Number of classes\n",
    "    : return: Tensor for label input.\n",
    "    \"\"\"\n",
    "    # TODO: Implement Function\n",
    "    return tf.placeholder(tf.float32, shape = [None, n_classes], name = 'y')\n",
    "\n",
    "\n",
    "def neural_net_keep_prob_input():\n",
    "    \"\"\"\n",
    "    Return a Tensor for keep probability\n",
    "    : return: Tensor for keep probability.\n",
    "    \"\"\"\n",
    "    # TODO: Implement Function    \n",
    "    return tf.placeholder(tf.float32, name = 'keep_prob')\n",
    "\n",
    "\n",
    "\"\"\"\n",
    "DON'T MODIFY ANYTHING IN THIS CELL THAT IS BELOW THIS LINE\n",
    "\"\"\"\n",
    "tf.reset_default_graph()\n",
    "tests.test_nn_image_inputs(neural_net_image_input)\n",
    "tests.test_nn_label_inputs(neural_net_label_input)\n",
    "tests.test_nn_keep_prob_inputs(neural_net_keep_prob_input)"
   ]
  },
  {
   "cell_type": "markdown",
   "metadata": {},
   "source": [
    "### Convolution and Max Pooling Layer\n",
    "Convolution layers have a lot of success with images. For this code cell, you should implement the function `conv2d_maxpool` to apply convolution then max pooling:\n",
    "* Create the weight and bias using `conv_ksize`, `conv_num_outputs` and the shape of `x_tensor`.\n",
    "* Apply a convolution to `x_tensor` using weight and `conv_strides`.\n",
    " * We recommend you use same padding, but you're welcome to use any padding.\n",
    "* Add bias\n",
    "* Add a nonlinear activation to the convolution.\n",
    "* Apply Max Pooling using `pool_ksize` and `pool_strides`.\n",
    " * We recommend you use same padding, but you're welcome to use any padding.\n",
    "\n",
    "**Note:** You **can't** use [TensorFlow Layers](https://www.tensorflow.org/api_docs/python/tf/layers) or [TensorFlow Layers (contrib)](https://www.tensorflow.org/api_guides/python/contrib.layers) for **this** layer, but you can still use TensorFlow's [Neural Network](https://www.tensorflow.org/api_docs/python/tf/nn) package. You may still use the shortcut option for all the **other** layers."
   ]
  },
  {
   "cell_type": "code",
   "execution_count": 32,
   "metadata": {
    "collapsed": false
   },
   "outputs": [
    {
     "name": "stdout",
     "output_type": "stream",
     "text": [
      "Tests Passed\n"
     ]
    }
   ],
   "source": [
    "def conv2d_maxpool(x_tensor, conv_num_outputs, conv_ksize, conv_strides, pool_ksize, pool_strides):\n",
    "    \"\"\"\n",
    "    Apply convolution then max pooling to x_tensor\n",
    "    :param x_tensor: TensorFlow Tensor\n",
    "    :param conv_num_outputs: Number of outputs for the convolutional layer\n",
    "    :param conv_ksize: kernal size 2-D Tuple for the convolutional layer\n",
    "    :param conv_strides: Stride 2-D Tuple for convolution\n",
    "    :param pool_ksize: kernal size 2-D Tuple for pool\n",
    "    :param pool_strides: Stride 2-D Tuple for pool\n",
    "    : return: A tensor that represents convolution and max pooling of x_tensor\n",
    "    \"\"\"\n",
    "    # TODO: Implement Function\n",
    "    \n",
    "    input_depth = x_tensor.get_shape().as_list()[-1]\n",
    "    W = tf.Variable(tf.random_normal([conv_ksize[0], conv_ksize[1], input_depth, conv_num_outputs],stddev=0.1))\n",
    "    b = tf.Variable(tf.zeros(conv_num_outputs))\n",
    "    conv = tf.nn.conv2d(x_tensor, W, [1, conv_strides[0], conv_strides[1], 1], 'SAME') + b\n",
    "    conv = tf.nn.relu(conv)\n",
    "    return tf.nn.max_pool(conv,[1, pool_ksize[0], pool_ksize[1], 1],[1, pool_strides[0], pool_strides[1], 1],'SAME')\n",
    "\n",
    "\n",
    "\"\"\"\n",
    "DON'T MODIFY ANYTHING IN THIS CELL THAT IS BELOW THIS LINE\n",
    "\"\"\"\n",
    "tests.test_con_pool(conv2d_maxpool)"
   ]
  },
  {
   "cell_type": "markdown",
   "metadata": {},
   "source": [
    "### Flatten Layer\n",
    "Implement the `flatten` function to change the dimension of `x_tensor` from a 4-D tensor to a 2-D tensor.  The output should be the shape (*Batch Size*, *Flattened Image Size*). Shortcut option: you can use classes from the [TensorFlow Layers](https://www.tensorflow.org/api_docs/python/tf/layers) or [TensorFlow Layers (contrib)](https://www.tensorflow.org/api_guides/python/contrib.layers) packages for this layer. For more of a challenge, only use other TensorFlow packages."
   ]
  },
  {
   "cell_type": "code",
   "execution_count": 33,
   "metadata": {
    "collapsed": false
   },
   "outputs": [
    {
     "name": "stdout",
     "output_type": "stream",
     "text": [
      "Tests Passed\n"
     ]
    }
   ],
   "source": [
    "def flatten(x_tensor):\n",
    "    \"\"\"\n",
    "    Flatten x_tensor to (Batch Size, Flattened Image Size)\n",
    "    : x_tensor: A tensor of size (Batch Size, ...), where ... are the image dimensions.\n",
    "    : return: A tensor of size (Batch Size, Flattened Image Size).\n",
    "    \"\"\"\n",
    "    # TODO: Implement Function\n",
    "    shape = x_tensor.get_shape().as_list()\n",
    "    return tf.reshape(x_tensor, [-1, np.prod(shape[1:])])\n",
    "\n",
    "\"\"\"\n",
    "DON'T MODIFY ANYTHING IN THIS CELL THAT IS BELOW THIS LINE\n",
    "\"\"\"\n",
    "tests.test_flatten(flatten)"
   ]
  },
  {
   "cell_type": "markdown",
   "metadata": {},
   "source": [
    "### Fully-Connected Layer\n",
    "Implement the `fully_conn` function to apply a fully connected layer to `x_tensor` with the shape (*Batch Size*, *num_outputs*). Shortcut option: you can use classes from the [TensorFlow Layers](https://www.tensorflow.org/api_docs/python/tf/layers) or [TensorFlow Layers (contrib)](https://www.tensorflow.org/api_guides/python/contrib.layers) packages for this layer. For more of a challenge, only use other TensorFlow packages."
   ]
  },
  {
   "cell_type": "code",
   "execution_count": 34,
   "metadata": {
    "collapsed": false
   },
   "outputs": [
    {
     "name": "stdout",
     "output_type": "stream",
     "text": [
      "Tests Passed\n"
     ]
    }
   ],
   "source": [
    "def fully_conn(x_tensor, num_outputs):\n",
    "    \"\"\"\n",
    "    Apply a fully connected layer to x_tensor using weight and bias\n",
    "    : x_tensor: A 2-D tensor where the first dimension is batch size.\n",
    "    : num_outputs: The number of output that the new tensor should be.\n",
    "    : return: A 2-D tensor where the second dimension is num_outputs.\n",
    "    \"\"\"\n",
    "    # TODO: Implement Function\n",
    "    shape = x_tensor.get_shape().as_list()\n",
    "    W = tf.Variable(tf.random_normal([shape[-1], num_outputs], stddev=0.1))\n",
    "    b = tf.Variable(tf.zeros(num_outputs)) + 0.1\n",
    "    return tf.nn.relu(tf.add(tf.matmul(x_tensor, W), b))\n",
    "\n",
    "\n",
    "\"\"\"\n",
    "DON'T MODIFY ANYTHING IN THIS CELL THAT IS BELOW THIS LINE\n",
    "\"\"\"\n",
    "tests.test_fully_conn(fully_conn)"
   ]
  },
  {
   "cell_type": "markdown",
   "metadata": {},
   "source": [
    "### Output Layer\n",
    "Implement the `output` function to apply a fully connected layer to `x_tensor` with the shape (*Batch Size*, *num_outputs*). Shortcut option: you can use classes from the [TensorFlow Layers](https://www.tensorflow.org/api_docs/python/tf/layers) or [TensorFlow Layers (contrib)](https://www.tensorflow.org/api_guides/python/contrib.layers) packages for this layer. For more of a challenge, only use other TensorFlow packages.\n",
    "\n",
    "**Note:** Activation, softmax, or cross entropy should **not** be applied to this."
   ]
  },
  {
   "cell_type": "code",
   "execution_count": 35,
   "metadata": {
    "collapsed": false
   },
   "outputs": [
    {
     "name": "stdout",
     "output_type": "stream",
     "text": [
      "Tests Passed\n"
     ]
    }
   ],
   "source": [
    "def output(x_tensor, num_outputs):\n",
    "    \"\"\"\n",
    "    Apply a output layer to x_tensor using weight and bias\n",
    "    : x_tensor: A 2-D tensor where the first dimension is batch size.\n",
    "    : num_outputs: The number of output that the new tensor should be.\n",
    "    : return: A 2-D tensor where the second dimension is num_outputs.\n",
    "    \"\"\"\n",
    "    # TODO: Implement Function\n",
    "    shape = x_tensor.get_shape().as_list()\n",
    "    W = tf.Variable(tf.random_normal([shape[-1], num_outputs]))\n",
    "    b = tf.Variable(tf.zeros(num_outputs))\n",
    "    return tf.add(tf.matmul(x_tensor, W), b)\n",
    "\n",
    "\n",
    "\n",
    "\"\"\"\n",
    "DON'T MODIFY ANYTHING IN THIS CELL THAT IS BELOW THIS LINE\n",
    "\"\"\"\n",
    "tests.test_output(output)"
   ]
  },
  {
   "cell_type": "markdown",
   "metadata": {},
   "source": [
    "### Create Convolutional Model\n",
    "Implement the function `conv_net` to create a convolutional neural network model. The function takes in a batch of images, `x`, and outputs logits.  Use the layers you created above to create this model:\n",
    "\n",
    "* Apply 1, 2, or 3 Convolution and Max Pool layers\n",
    "* Apply a Flatten Layer\n",
    "* Apply 1, 2, or 3 Fully Connected Layers\n",
    "* Apply an Output Layer\n",
    "* Return the output\n",
    "* Apply [TensorFlow's Dropout](https://www.tensorflow.org/api_docs/python/tf/nn/dropout) to one or more layers in the model using `keep_prob`. "
   ]
  },
  {
   "cell_type": "code",
   "execution_count": 36,
   "metadata": {
    "collapsed": false
   },
   "outputs": [
    {
     "name": "stdout",
     "output_type": "stream",
     "text": [
      "Neural Network Built!\n"
     ]
    }
   ],
   "source": [
    "def conv_net(x, keep_prob):\n",
    "    \"\"\"\n",
    "    Create a convolutional neural network model\n",
    "    : x: Placeholder tensor that holds image data.\n",
    "    : keep_prob: Placeholder tensor that hold dropout keep probability.\n",
    "    : return: Tensor that represents logits\n",
    "    \"\"\"\n",
    "    # TODO: Apply 1, 2, or 3 Convolution and Max Pool layers\n",
    "    #    Play around with different number of outputs, kernel size and stride\n",
    "    # Function Definition from Above:\n",
    "    #    conv2d_maxpool(x_tensor, conv_num_outputs, conv_ksize, conv_strides, pool_ksize, pool_strides)\n",
    "    tmp = conv2d_maxpool(x, 64, [3, 3], [1, 1], [3, 3], [2, 2])\n",
    "    tf.nn.dropout(tmp, keep_prob=keep_prob)\n",
    "\n",
    "    # TODO: Apply a Flatten Layer\n",
    "    # Function Definition from Above:\n",
    "    #   flatten(x_tensor)\n",
    "    tmp = flatten(tmp)\n",
    "\n",
    "    # TODO: Apply 1, 2, or 3 Fully Connected Layers\n",
    "    #    Play around with different number of outputs\n",
    "    # Function Definition from Above:\n",
    "    #   fully_conn(x_tensor, num_outputs)    \n",
    "    tmp = fully_conn(tmp, 300)\n",
    "    tf.nn.dropout(tmp, keep_prob=keep_prob)\n",
    "    tmp = fully_conn(tmp, 150)\n",
    "    tf.nn.dropout(tmp, keep_prob=keep_prob)\n",
    "    \n",
    "    # TODO: Apply an Output Layer\n",
    "    #    Set this to the number of classes\n",
    "    # Function Definition from Above:\n",
    "    #   output(x_tensor, num_outputs)\n",
    "    \n",
    "    \n",
    "    # TODO: return output\n",
    "    return output(tmp, 10)\n",
    "\n",
    "\n",
    "\"\"\"\n",
    "DON'T MODIFY ANYTHING IN THIS CELL THAT IS BELOW THIS LINE\n",
    "\"\"\"\n",
    "\n",
    "##############################\n",
    "## Build the Neural Network ##\n",
    "##############################\n",
    "\n",
    "# Remove previous weights, bias, inputs, etc..\n",
    "tf.reset_default_graph()\n",
    "\n",
    "# Inputs\n",
    "x = neural_net_image_input((32, 32, 3))\n",
    "y = neural_net_label_input(10)\n",
    "keep_prob = neural_net_keep_prob_input()\n",
    "\n",
    "# Model\n",
    "logits = conv_net(x, keep_prob)\n",
    "\n",
    "# Name logits Tensor, so that is can be loaded from disk after training\n",
    "logits = tf.identity(logits, name='logits')\n",
    "\n",
    "# Loss and Optimizer\n",
    "cost = tf.reduce_mean(tf.nn.softmax_cross_entropy_with_logits(logits=logits, labels=y))\n",
    "optimizer = tf.train.AdamOptimizer().minimize(cost)\n",
    "\n",
    "# Accuracy\n",
    "correct_pred = tf.equal(tf.argmax(logits, 1), tf.argmax(y, 1))\n",
    "accuracy = tf.reduce_mean(tf.cast(correct_pred, tf.float32), name='accuracy')\n",
    "\n",
    "tests.test_conv_net(conv_net)"
   ]
  },
  {
   "cell_type": "markdown",
   "metadata": {},
   "source": [
    "## Train the Neural Network\n",
    "### Single Optimization\n",
    "Implement the function `train_neural_network` to do a single optimization.  The optimization should use `optimizer` to optimize in `session` with a `feed_dict` of the following:\n",
    "* `x` for image input\n",
    "* `y` for labels\n",
    "* `keep_prob` for keep probability for dropout\n",
    "\n",
    "This function will be called for each batch, so `tf.global_variables_initializer()` has already been called.\n",
    "\n",
    "Note: Nothing needs to be returned. This function is only optimizing the neural network."
   ]
  },
  {
   "cell_type": "code",
   "execution_count": 37,
   "metadata": {
    "collapsed": false
   },
   "outputs": [
    {
     "name": "stdout",
     "output_type": "stream",
     "text": [
      "Tests Passed\n"
     ]
    }
   ],
   "source": [
    "def train_neural_network(session, optimizer, keep_probability, feature_batch, label_batch):\n",
    "    \"\"\"\n",
    "    Optimize the session on a batch of images and labels\n",
    "    : session: Current TensorFlow session\n",
    "    : optimizer: TensorFlow optimizer function\n",
    "    : keep_probability: keep probability\n",
    "    : feature_batch: Batch of Numpy image data\n",
    "    : label_batch: Batch of Numpy label data\n",
    "    \"\"\"\n",
    "    # TODO: Implement Function\n",
    "    session.run(optimizer, feed_dict={x: feature_batch, y: label_batch, keep_prob: keep_probability})\n",
    "\n",
    "\n",
    "\"\"\"\n",
    "DON'T MODIFY ANYTHING IN THIS CELL THAT IS BELOW THIS LINE\n",
    "\"\"\"\n",
    "tests.test_train_nn(train_neural_network)"
   ]
  },
  {
   "cell_type": "markdown",
   "metadata": {},
   "source": [
    "### Show Stats\n",
    "Implement the function `print_stats` to print loss and validation accuracy.  Use the global variables `valid_features` and `valid_labels` to calculate validation accuracy.  Use a keep probability of `1.0` to calculate the loss and validation accuracy."
   ]
  },
  {
   "cell_type": "code",
   "execution_count": 42,
   "metadata": {
    "collapsed": false
   },
   "outputs": [],
   "source": [
    "def print_stats(session, feature_batch, label_batch, cost, accuracy):\n",
    "    \"\"\"\n",
    "    Print information about loss and validation accuracy\n",
    "    : session: Current TensorFlow session\n",
    "    : feature_batch: Batch of Numpy image data\n",
    "    : label_batch: Batch of Numpy label data\n",
    "    : cost: TensorFlow cost function\n",
    "    : accuracy: TensorFlow accuracy function\n",
    "    \"\"\"\n",
    "    global valid_features, valid_labels\n",
    "    validation_accuracy = session.run(\n",
    "        accuracy,\n",
    "        feed_dict={\n",
    "            x: valid_features,\n",
    "            y: valid_labels,\n",
    "            keep_prob: 1.0,\n",
    "        }\n",
    "    )\n",
    "    cost = session.run(\n",
    "        cost,\n",
    "        feed_dict={\n",
    "            x: feature_batch,\n",
    "            y: label_batch,\n",
    "            keep_prob: 1.0,\n",
    "        }\n",
    "    )\n",
    "    print('Cost = {0} \\t Validation Accuracy = {1}'.format(cost, validation_accuracy))    \n",
    "    \n",
    "    # TODO: Implement Function\n"
   ]
  },
  {
   "cell_type": "markdown",
   "metadata": {},
   "source": [
    "### Hyperparameters\n",
    "Tune the following parameters:\n",
    "* Set `epochs` to the number of iterations until the network stops learning or start overfitting\n",
    "* Set `batch_size` to the highest number that your machine has memory for.  Most people set them to common sizes of memory:\n",
    " * 64\n",
    " * 128\n",
    " * 256\n",
    " * ...\n",
    "* Set `keep_probability` to the probability of keeping a node using dropout"
   ]
  },
  {
   "cell_type": "code",
   "execution_count": 43,
   "metadata": {
    "collapsed": true
   },
   "outputs": [],
   "source": [
    "# TODO: Tune Parameters\n",
    "epochs = 30\n",
    "batch_size = 1200\n",
    "keep_probability = .5"
   ]
  },
  {
   "cell_type": "markdown",
   "metadata": {},
   "source": [
    "### Train on a Single CIFAR-10 Batch\n",
    "Instead of training the neural network on all the CIFAR-10 batches of data, let's use a single batch. This should save time while you iterate on the model to get a better accuracy.  Once the final validation accuracy is 50% or greater, run the model on all the data in the next section."
   ]
  },
  {
   "cell_type": "code",
   "execution_count": 44,
   "metadata": {
    "collapsed": false
   },
   "outputs": [
    {
     "name": "stdout",
     "output_type": "stream",
     "text": [
      "Checking the Training on a Single Batch...\n",
      "Epoch  1, CIFAR-10 Batch 1:  Cost = 67.9760971069336 \t Validation Accuracy = 0.1080000028014183\n",
      "Epoch  2, CIFAR-10 Batch 1:  Cost = 22.783512115478516 \t Validation Accuracy = 0.14659999310970306\n",
      "Epoch  3, CIFAR-10 Batch 1:  Cost = 8.375290870666504 \t Validation Accuracy = 0.1462000012397766\n",
      "Epoch  4, CIFAR-10 Batch 1:  Cost = 4.193901062011719 \t Validation Accuracy = 0.1607999950647354\n",
      "Epoch  5, CIFAR-10 Batch 1:  Cost = 3.7028675079345703 \t Validation Accuracy = 0.18279999494552612\n",
      "Epoch  6, CIFAR-10 Batch 1:  Cost = 2.944831132888794 \t Validation Accuracy = 0.20640000700950623\n",
      "Epoch  7, CIFAR-10 Batch 1:  Cost = 2.5262975692749023 \t Validation Accuracy = 0.23180000483989716\n",
      "Epoch  8, CIFAR-10 Batch 1:  Cost = 2.2797718048095703 \t Validation Accuracy = 0.25699999928474426\n",
      "Epoch  9, CIFAR-10 Batch 1:  Cost = 2.045912742614746 \t Validation Accuracy = 0.29120001196861267\n",
      "Epoch 10, CIFAR-10 Batch 1:  Cost = 1.8763104677200317 \t Validation Accuracy = 0.3255999982357025\n",
      "Epoch 11, CIFAR-10 Batch 1:  Cost = 1.7284594774246216 \t Validation Accuracy = 0.35040000081062317\n",
      "Epoch 12, CIFAR-10 Batch 1:  Cost = 1.567455768585205 \t Validation Accuracy = 0.37040001153945923\n",
      "Epoch 13, CIFAR-10 Batch 1:  Cost = 1.421315312385559 \t Validation Accuracy = 0.3864000141620636\n",
      "Epoch 14, CIFAR-10 Batch 1:  Cost = 1.3064053058624268 \t Validation Accuracy = 0.3984000086784363\n",
      "Epoch 15, CIFAR-10 Batch 1:  Cost = 1.2307283878326416 \t Validation Accuracy = 0.4041999876499176\n",
      "Epoch 16, CIFAR-10 Batch 1:  Cost = 1.1399948596954346 \t Validation Accuracy = 0.41839998960494995\n",
      "Epoch 17, CIFAR-10 Batch 1:  Cost = 1.0202064514160156 \t Validation Accuracy = 0.4341999888420105\n",
      "Epoch 18, CIFAR-10 Batch 1:  Cost = 0.9254335761070251 \t Validation Accuracy = 0.4429999887943268\n",
      "Epoch 19, CIFAR-10 Batch 1:  Cost = 0.8546345233917236 \t Validation Accuracy = 0.45080000162124634\n",
      "Epoch 20, CIFAR-10 Batch 1:  Cost = 0.7858037948608398 \t Validation Accuracy = 0.4569999873638153\n",
      "Epoch 21, CIFAR-10 Batch 1:  Cost = 0.7136603593826294 \t Validation Accuracy = 0.46560001373291016\n",
      "Epoch 22, CIFAR-10 Batch 1:  Cost = 0.6495391726493835 \t Validation Accuracy = 0.4715999960899353\n",
      "Epoch 23, CIFAR-10 Batch 1:  Cost = 0.6205139756202698 \t Validation Accuracy = 0.46939998865127563\n",
      "Epoch 24, CIFAR-10 Batch 1:  Cost = 0.6092503666877747 \t Validation Accuracy = 0.4702000021934509\n",
      "Epoch 25, CIFAR-10 Batch 1:  Cost = 0.5591084361076355 \t Validation Accuracy = 0.4729999899864197\n",
      "Epoch 26, CIFAR-10 Batch 1:  Cost = 0.4887138307094574 \t Validation Accuracy = 0.48260000348091125\n",
      "Epoch 27, CIFAR-10 Batch 1:  Cost = 0.494150847196579 \t Validation Accuracy = 0.4828000068664551\n",
      "Epoch 28, CIFAR-10 Batch 1:  Cost = 0.4608776867389679 \t Validation Accuracy = 0.48539999127388\n",
      "Epoch 29, CIFAR-10 Batch 1:  Cost = 0.4040698707103729 \t Validation Accuracy = 0.4952000081539154\n",
      "Epoch 30, CIFAR-10 Batch 1:  Cost = 0.368197500705719 \t Validation Accuracy = 0.48980000615119934\n"
     ]
    }
   ],
   "source": [
    "\"\"\"\n",
    "DON'T MODIFY ANYTHING IN THIS CELL\n",
    "\"\"\"\n",
    "print('Checking the Training on a Single Batch...')\n",
    "with tf.Session() as sess:\n",
    "    # Initializing the variables\n",
    "    sess.run(tf.global_variables_initializer())\n",
    "    \n",
    "    # Training cycle\n",
    "    for epoch in range(epochs):\n",
    "        batch_i = 1\n",
    "        for batch_features, batch_labels in helper.load_preprocess_training_batch(batch_i, batch_size):\n",
    "            train_neural_network(sess, optimizer, keep_probability, batch_features, batch_labels)\n",
    "        print('Epoch {:>2}, CIFAR-10 Batch {}:  '.format(epoch + 1, batch_i), end='')\n",
    "        print_stats(sess, batch_features, batch_labels, cost, accuracy)"
   ]
  },
  {
   "cell_type": "markdown",
   "metadata": {},
   "source": [
    "### Fully Train the Model\n",
    "Now that you got a good accuracy with a single CIFAR-10 batch, try it with all five batches."
   ]
  },
  {
   "cell_type": "code",
   "execution_count": 41,
   "metadata": {
    "collapsed": false
   },
   "outputs": [
    {
     "name": "stdout",
     "output_type": "stream",
     "text": [
      "Training...\n",
      "Epoch  1, CIFAR-10 Batch 1:  Cost = 33.62104415893555 \t Validation Accuracy = 0.09759999811649323\n",
      "Epoch  1, CIFAR-10 Batch 2:  Cost = 8.627105712890625 \t Validation Accuracy = 0.14139999449253082\n",
      "Epoch  1, CIFAR-10 Batch 3:  Cost = 5.757595539093018 \t Validation Accuracy = 0.19939999282360077\n",
      "Epoch  1, CIFAR-10 Batch 4:  Cost = 4.345089912414551 \t Validation Accuracy = 0.2003999948501587\n",
      "Epoch  1, CIFAR-10 Batch 5:  Cost = 3.375307321548462 \t Validation Accuracy = 0.24199999868869781\n",
      "Epoch  2, CIFAR-10 Batch 1:  Cost = 2.7252655029296875 \t Validation Accuracy = 0.27160000801086426\n",
      "Epoch  2, CIFAR-10 Batch 2:  Cost = 2.71939754486084 \t Validation Accuracy = 0.2996000051498413\n",
      "Epoch  2, CIFAR-10 Batch 3:  Cost = 2.345122814178467 \t Validation Accuracy = 0.33320000767707825\n",
      "Epoch  2, CIFAR-10 Batch 4:  Cost = 2.147671699523926 \t Validation Accuracy = 0.362199991941452\n",
      "Epoch  2, CIFAR-10 Batch 5:  Cost = 2.084104537963867 \t Validation Accuracy = 0.38019999861717224\n",
      "Epoch  3, CIFAR-10 Batch 1:  Cost = 1.8499908447265625 \t Validation Accuracy = 0.41019999980926514\n",
      "Epoch  3, CIFAR-10 Batch 2:  Cost = 1.7955443859100342 \t Validation Accuracy = 0.4221999943256378\n",
      "Epoch  3, CIFAR-10 Batch 3:  Cost = 1.6818478107452393 \t Validation Accuracy = 0.43619999289512634\n",
      "Epoch  3, CIFAR-10 Batch 4:  Cost = 1.5912322998046875 \t Validation Accuracy = 0.44600000977516174\n",
      "Epoch  3, CIFAR-10 Batch 5:  Cost = 1.5989779233932495 \t Validation Accuracy = 0.4546000063419342\n",
      "Epoch  4, CIFAR-10 Batch 1:  Cost = 1.5016894340515137 \t Validation Accuracy = 0.46639999747276306\n",
      "Epoch  4, CIFAR-10 Batch 2:  Cost = 1.4678807258605957 \t Validation Accuracy = 0.47760000824928284\n",
      "Epoch  4, CIFAR-10 Batch 3:  Cost = 1.3898261785507202 \t Validation Accuracy = 0.48080000281333923\n",
      "Epoch  4, CIFAR-10 Batch 4:  Cost = 1.3437306880950928 \t Validation Accuracy = 0.48019999265670776\n",
      "Epoch  4, CIFAR-10 Batch 5:  Cost = 1.351227045059204 \t Validation Accuracy = 0.49900001287460327\n",
      "Epoch  5, CIFAR-10 Batch 1:  Cost = 1.2946897745132446 \t Validation Accuracy = 0.508400022983551\n",
      "Epoch  5, CIFAR-10 Batch 2:  Cost = 1.2688828706741333 \t Validation Accuracy = 0.5073999762535095\n",
      "Epoch  5, CIFAR-10 Batch 3:  Cost = 1.2216719388961792 \t Validation Accuracy = 0.5184000134468079\n",
      "Epoch  5, CIFAR-10 Batch 4:  Cost = 1.1804969310760498 \t Validation Accuracy = 0.5117999911308289\n",
      "Epoch  5, CIFAR-10 Batch 5:  Cost = 1.189344048500061 \t Validation Accuracy = 0.5239999890327454\n",
      "Epoch  6, CIFAR-10 Batch 1:  Cost = 1.1709681749343872 \t Validation Accuracy = 0.5321999788284302\n",
      "Epoch  6, CIFAR-10 Batch 2:  Cost = 1.1343212127685547 \t Validation Accuracy = 0.5302000045776367\n",
      "Epoch  6, CIFAR-10 Batch 3:  Cost = 1.0992945432662964 \t Validation Accuracy = 0.5383999943733215\n",
      "Epoch  6, CIFAR-10 Batch 4:  Cost = 1.064234972000122 \t Validation Accuracy = 0.5293999910354614\n",
      "Epoch  6, CIFAR-10 Batch 5:  Cost = 1.0617246627807617 \t Validation Accuracy = 0.5432000160217285\n",
      "Epoch  7, CIFAR-10 Batch 1:  Cost = 1.0713717937469482 \t Validation Accuracy = 0.548799991607666\n",
      "Epoch  7, CIFAR-10 Batch 2:  Cost = 1.0351042747497559 \t Validation Accuracy = 0.5497999787330627\n",
      "Epoch  7, CIFAR-10 Batch 3:  Cost = 1.009134292602539 \t Validation Accuracy = 0.5551999807357788\n",
      "Epoch  7, CIFAR-10 Batch 4:  Cost = 0.9644960761070251 \t Validation Accuracy = 0.548799991607666\n",
      "Epoch  7, CIFAR-10 Batch 5:  Cost = 0.9680759906768799 \t Validation Accuracy = 0.553600013256073\n",
      "Epoch  8, CIFAR-10 Batch 1:  Cost = 0.9958255887031555 \t Validation Accuracy = 0.5598000288009644\n",
      "Epoch  8, CIFAR-10 Batch 2:  Cost = 0.9487432837486267 \t Validation Accuracy = 0.5626000165939331\n",
      "Epoch  8, CIFAR-10 Batch 3:  Cost = 0.9365523457527161 \t Validation Accuracy = 0.5687999725341797\n",
      "Epoch  8, CIFAR-10 Batch 4:  Cost = 0.8766354322433472 \t Validation Accuracy = 0.5623999834060669\n",
      "Epoch  8, CIFAR-10 Batch 5:  Cost = 0.886395275592804 \t Validation Accuracy = 0.5630000233650208\n",
      "Epoch  9, CIFAR-10 Batch 1:  Cost = 0.9336326122283936 \t Validation Accuracy = 0.5690000057220459\n",
      "Epoch  9, CIFAR-10 Batch 2:  Cost = 0.8762988448143005 \t Validation Accuracy = 0.5712000131607056\n",
      "Epoch  9, CIFAR-10 Batch 3:  Cost = 0.868285596370697 \t Validation Accuracy = 0.5788000226020813\n",
      "Epoch  9, CIFAR-10 Batch 4:  Cost = 0.8123364448547363 \t Validation Accuracy = 0.567799985408783\n",
      "Epoch  9, CIFAR-10 Batch 5:  Cost = 0.8148790597915649 \t Validation Accuracy = 0.5753999948501587\n",
      "Epoch 10, CIFAR-10 Batch 1:  Cost = 0.8807269334793091 \t Validation Accuracy = 0.5723999738693237\n",
      "Epoch 10, CIFAR-10 Batch 2:  Cost = 0.8148111701011658 \t Validation Accuracy = 0.579200029373169\n",
      "Epoch 10, CIFAR-10 Batch 3:  Cost = 0.803537905216217 \t Validation Accuracy = 0.5884000062942505\n",
      "Epoch 10, CIFAR-10 Batch 4:  Cost = 0.7712317109107971 \t Validation Accuracy = 0.5735999941825867\n",
      "Epoch 10, CIFAR-10 Batch 5:  Cost = 0.7415871620178223 \t Validation Accuracy = 0.5838000178337097\n",
      "Epoch 11, CIFAR-10 Batch 1:  Cost = 0.8221150040626526 \t Validation Accuracy = 0.5813999772071838\n",
      "Epoch 11, CIFAR-10 Batch 2:  Cost = 0.7666182518005371 \t Validation Accuracy = 0.5831999778747559\n",
      "Epoch 11, CIFAR-10 Batch 3:  Cost = 0.7503302693367004 \t Validation Accuracy = 0.5898000001907349\n",
      "Epoch 11, CIFAR-10 Batch 4:  Cost = 0.7176802754402161 \t Validation Accuracy = 0.5825999975204468\n",
      "Epoch 11, CIFAR-10 Batch 5:  Cost = 0.6870075464248657 \t Validation Accuracy = 0.5935999751091003\n",
      "Epoch 12, CIFAR-10 Batch 1:  Cost = 0.7705589532852173 \t Validation Accuracy = 0.5885999798774719\n",
      "Epoch 12, CIFAR-10 Batch 2:  Cost = 0.7277035713195801 \t Validation Accuracy = 0.5861999988555908\n",
      "Epoch 12, CIFAR-10 Batch 3:  Cost = 0.7155860066413879 \t Validation Accuracy = 0.5932000279426575\n",
      "Epoch 12, CIFAR-10 Batch 4:  Cost = 0.6550438404083252 \t Validation Accuracy = 0.5917999744415283\n",
      "Epoch 12, CIFAR-10 Batch 5:  Cost = 0.6341869831085205 \t Validation Accuracy = 0.5974000096321106\n",
      "Epoch 13, CIFAR-10 Batch 1:  Cost = 0.7127314805984497 \t Validation Accuracy = 0.6019999980926514\n",
      "Epoch 13, CIFAR-10 Batch 2:  Cost = 0.6969459056854248 \t Validation Accuracy = 0.5857999920845032\n",
      "Epoch 13, CIFAR-10 Batch 3:  Cost = 0.6863033771514893 \t Validation Accuracy = 0.5964000225067139\n",
      "Epoch 13, CIFAR-10 Batch 4:  Cost = 0.6175357103347778 \t Validation Accuracy = 0.5924000144004822\n",
      "Epoch 13, CIFAR-10 Batch 5:  Cost = 0.5949245095252991 \t Validation Accuracy = 0.5965999960899353\n",
      "Epoch 14, CIFAR-10 Batch 1:  Cost = 0.6736335158348083 \t Validation Accuracy = 0.6014000177383423\n",
      "Epoch 14, CIFAR-10 Batch 2:  Cost = 0.6475932598114014 \t Validation Accuracy = 0.590399980545044\n",
      "Epoch 14, CIFAR-10 Batch 3:  Cost = 0.6637644171714783 \t Validation Accuracy = 0.5952000021934509\n",
      "Epoch 14, CIFAR-10 Batch 4:  Cost = 0.5973285436630249 \t Validation Accuracy = 0.5992000102996826\n",
      "Epoch 14, CIFAR-10 Batch 5:  Cost = 0.5783823132514954 \t Validation Accuracy = 0.5842000246047974\n",
      "Epoch 15, CIFAR-10 Batch 1:  Cost = 0.652301013469696 \t Validation Accuracy = 0.6037999987602234\n",
      "Epoch 15, CIFAR-10 Batch 2:  Cost = 0.5949413776397705 \t Validation Accuracy = 0.5928000211715698\n",
      "Epoch 15, CIFAR-10 Batch 3:  Cost = 0.6292533874511719 \t Validation Accuracy = 0.5968000292778015\n",
      "Epoch 15, CIFAR-10 Batch 4:  Cost = 0.5707744359970093 \t Validation Accuracy = 0.5961999893188477\n",
      "Epoch 15, CIFAR-10 Batch 5:  Cost = 0.5408092141151428 \t Validation Accuracy = 0.5825999975204468\n",
      "Epoch 16, CIFAR-10 Batch 1:  Cost = 0.6247525811195374 \t Validation Accuracy = 0.6007999777793884\n",
      "Epoch 16, CIFAR-10 Batch 2:  Cost = 0.5691248178482056 \t Validation Accuracy = 0.597000002861023\n",
      "Epoch 16, CIFAR-10 Batch 3:  Cost = 0.6111146807670593 \t Validation Accuracy = 0.5885999798774719\n",
      "Epoch 16, CIFAR-10 Batch 4:  Cost = 0.5264278650283813 \t Validation Accuracy = 0.6051999926567078\n",
      "Epoch 16, CIFAR-10 Batch 5:  Cost = 0.5292397141456604 \t Validation Accuracy = 0.5874000191688538\n",
      "Epoch 17, CIFAR-10 Batch 1:  Cost = 0.5880606770515442 \t Validation Accuracy = 0.6078000068664551\n",
      "Epoch 17, CIFAR-10 Batch 2:  Cost = 0.5274530649185181 \t Validation Accuracy = 0.6092000007629395\n",
      "Epoch 17, CIFAR-10 Batch 3:  Cost = 0.5505401492118835 \t Validation Accuracy = 0.600600004196167\n",
      "Epoch 17, CIFAR-10 Batch 4:  Cost = 0.4884348511695862 \t Validation Accuracy = 0.6057999730110168\n",
      "Epoch 17, CIFAR-10 Batch 5:  Cost = 0.47403961420059204 \t Validation Accuracy = 0.5932000279426575\n",
      "Epoch 18, CIFAR-10 Batch 1:  Cost = 0.5661251544952393 \t Validation Accuracy = 0.6064000129699707\n",
      "Epoch 18, CIFAR-10 Batch 2:  Cost = 0.5212054252624512 \t Validation Accuracy = 0.5992000102996826\n",
      "Epoch 18, CIFAR-10 Batch 3:  Cost = 0.48738718032836914 \t Validation Accuracy = 0.6137999892234802\n",
      "Epoch 18, CIFAR-10 Batch 4:  Cost = 0.46809545159339905 \t Validation Accuracy = 0.6057999730110168\n",
      "Epoch 18, CIFAR-10 Batch 5:  Cost = 0.4258987009525299 \t Validation Accuracy = 0.604200005531311\n",
      "Epoch 19, CIFAR-10 Batch 1:  Cost = 0.5119560956954956 \t Validation Accuracy = 0.6029999852180481\n",
      "Epoch 19, CIFAR-10 Batch 2:  Cost = 0.5459558367729187 \t Validation Accuracy = 0.5871999859809875\n",
      "Epoch 19, CIFAR-10 Batch 3:  Cost = 0.47255900502204895 \t Validation Accuracy = 0.6136000156402588\n",
      "Epoch 19, CIFAR-10 Batch 4:  Cost = 0.43025532364845276 \t Validation Accuracy = 0.6082000136375427\n",
      "Epoch 19, CIFAR-10 Batch 5:  Cost = 0.4339693784713745 \t Validation Accuracy = 0.602400004863739\n",
      "Epoch 20, CIFAR-10 Batch 1:  Cost = 0.5112057328224182 \t Validation Accuracy = 0.6000000238418579\n",
      "Epoch 20, CIFAR-10 Batch 2:  Cost = 0.5203845500946045 \t Validation Accuracy = 0.5917999744415283\n",
      "Epoch 20, CIFAR-10 Batch 3:  Cost = 0.4624623656272888 \t Validation Accuracy = 0.6105999946594238\n",
      "Epoch 20, CIFAR-10 Batch 4:  Cost = 0.44887930154800415 \t Validation Accuracy = 0.5942000150680542\n",
      "Epoch 20, CIFAR-10 Batch 5:  Cost = 0.4269576966762543 \t Validation Accuracy = 0.602400004863739\n",
      "Epoch 21, CIFAR-10 Batch 1:  Cost = 0.48629263043403625 \t Validation Accuracy = 0.600600004196167\n",
      "Epoch 21, CIFAR-10 Batch 2:  Cost = 0.43819528818130493 \t Validation Accuracy = 0.6050000190734863\n",
      "Epoch 21, CIFAR-10 Batch 3:  Cost = 0.4963485598564148 \t Validation Accuracy = 0.597599983215332\n",
      "Epoch 21, CIFAR-10 Batch 4:  Cost = 0.42714446783065796 \t Validation Accuracy = 0.5884000062942505\n",
      "Epoch 21, CIFAR-10 Batch 5:  Cost = 0.39259639382362366 \t Validation Accuracy = 0.5932000279426575\n",
      "Epoch 22, CIFAR-10 Batch 1:  Cost = 0.4320676624774933 \t Validation Accuracy = 0.6105999946594238\n",
      "Epoch 22, CIFAR-10 Batch 2:  Cost = 0.4081217050552368 \t Validation Accuracy = 0.6118000149726868\n",
      "Epoch 22, CIFAR-10 Batch 3:  Cost = 0.4563593566417694 \t Validation Accuracy = 0.598800003528595\n",
      "Epoch 22, CIFAR-10 Batch 4:  Cost = 0.35663968324661255 \t Validation Accuracy = 0.6105999946594238\n",
      "Epoch 22, CIFAR-10 Batch 5:  Cost = 0.3818236291408539 \t Validation Accuracy = 0.5817999839782715\n",
      "Epoch 23, CIFAR-10 Batch 1:  Cost = 0.39276865124702454 \t Validation Accuracy = 0.6158000230789185\n",
      "Epoch 23, CIFAR-10 Batch 2:  Cost = 0.38527143001556396 \t Validation Accuracy = 0.614799976348877\n",
      "Epoch 23, CIFAR-10 Batch 3:  Cost = 0.4238227605819702 \t Validation Accuracy = 0.5997999906539917\n",
      "Epoch 23, CIFAR-10 Batch 4:  Cost = 0.3364657759666443 \t Validation Accuracy = 0.6154000163078308\n",
      "Epoch 23, CIFAR-10 Batch 5:  Cost = 0.37968727946281433 \t Validation Accuracy = 0.5813999772071838\n",
      "Epoch 24, CIFAR-10 Batch 1:  Cost = 0.380842387676239 \t Validation Accuracy = 0.6151999831199646\n",
      "Epoch 24, CIFAR-10 Batch 2:  Cost = 0.37637630105018616 \t Validation Accuracy = 0.614799976348877\n",
      "Epoch 24, CIFAR-10 Batch 3:  Cost = 0.4152775704860687 \t Validation Accuracy = 0.605400025844574\n",
      "Epoch 24, CIFAR-10 Batch 4:  Cost = 0.37778720259666443 \t Validation Accuracy = 0.6083999872207642\n",
      "Epoch 24, CIFAR-10 Batch 5:  Cost = 0.31875908374786377 \t Validation Accuracy = 0.6055999994277954\n",
      "Epoch 25, CIFAR-10 Batch 1:  Cost = 0.4840039610862732 \t Validation Accuracy = 0.5906000137329102\n",
      "Epoch 25, CIFAR-10 Batch 2:  Cost = 0.4064619839191437 \t Validation Accuracy = 0.6151999831199646\n",
      "Epoch 25, CIFAR-10 Batch 3:  Cost = 0.35598236322402954 \t Validation Accuracy = 0.6218000054359436\n",
      "Epoch 25, CIFAR-10 Batch 4:  Cost = 0.38746538758277893 \t Validation Accuracy = 0.6014000177383423\n",
      "Epoch 25, CIFAR-10 Batch 5:  Cost = 0.3222276568412781 \t Validation Accuracy = 0.6032000184059143\n",
      "Epoch 26, CIFAR-10 Batch 1:  Cost = 0.34619107842445374 \t Validation Accuracy = 0.6119999885559082\n",
      "Epoch 26, CIFAR-10 Batch 2:  Cost = 0.3404960036277771 \t Validation Accuracy = 0.618399977684021\n",
      "Epoch 26, CIFAR-10 Batch 3:  Cost = 0.34567558765411377 \t Validation Accuracy = 0.6158000230789185\n",
      "Epoch 26, CIFAR-10 Batch 4:  Cost = 0.32593727111816406 \t Validation Accuracy = 0.6110000014305115\n",
      "Epoch 26, CIFAR-10 Batch 5:  Cost = 0.25262847542762756 \t Validation Accuracy = 0.6200000047683716\n",
      "Epoch 27, CIFAR-10 Batch 1:  Cost = 0.3338964283466339 \t Validation Accuracy = 0.6079999804496765\n",
      "Epoch 27, CIFAR-10 Batch 2:  Cost = 0.3562696874141693 \t Validation Accuracy = 0.6097999811172485\n",
      "Epoch 27, CIFAR-10 Batch 3:  Cost = 0.30597835779190063 \t Validation Accuracy = 0.6190000176429749\n",
      "Epoch 27, CIFAR-10 Batch 4:  Cost = 0.2633898854255676 \t Validation Accuracy = 0.6259999871253967\n",
      "Epoch 27, CIFAR-10 Batch 5:  Cost = 0.2575034499168396 \t Validation Accuracy = 0.6209999918937683\n",
      "Epoch 28, CIFAR-10 Batch 1:  Cost = 0.35972169041633606 \t Validation Accuracy = 0.59579998254776\n",
      "Epoch 28, CIFAR-10 Batch 2:  Cost = 0.30467498302459717 \t Validation Accuracy = 0.6215999722480774\n",
      "Epoch 28, CIFAR-10 Batch 3:  Cost = 0.2874760329723358 \t Validation Accuracy = 0.6209999918937683\n",
      "Epoch 28, CIFAR-10 Batch 4:  Cost = 0.2637999355792999 \t Validation Accuracy = 0.6140000224113464\n",
      "Epoch 28, CIFAR-10 Batch 5:  Cost = 0.21793101727962494 \t Validation Accuracy = 0.6218000054359436\n",
      "Epoch 29, CIFAR-10 Batch 1:  Cost = 0.2729118764400482 \t Validation Accuracy = 0.6101999878883362\n",
      "Epoch 29, CIFAR-10 Batch 2:  Cost = 0.25624993443489075 \t Validation Accuracy = 0.625\n",
      "Epoch 29, CIFAR-10 Batch 3:  Cost = 0.26691824197769165 \t Validation Accuracy = 0.6182000041007996\n",
      "Epoch 29, CIFAR-10 Batch 4:  Cost = 0.23898501694202423 \t Validation Accuracy = 0.6200000047683716\n",
      "Epoch 29, CIFAR-10 Batch 5:  Cost = 0.195946604013443 \t Validation Accuracy = 0.6226000189781189\n",
      "Epoch 30, CIFAR-10 Batch 1:  Cost = 0.23723731935024261 \t Validation Accuracy = 0.6140000224113464\n",
      "Epoch 30, CIFAR-10 Batch 2:  Cost = 0.23102782666683197 \t Validation Accuracy = 0.6262000203132629\n",
      "Epoch 30, CIFAR-10 Batch 3:  Cost = 0.23874139785766602 \t Validation Accuracy = 0.6200000047683716\n",
      "Epoch 30, CIFAR-10 Batch 4:  Cost = 0.21654392778873444 \t Validation Accuracy = 0.6218000054359436\n",
      "Epoch 30, CIFAR-10 Batch 5:  Cost = 0.18198566138744354 \t Validation Accuracy = 0.6218000054359436\n"
     ]
    }
   ],
   "source": [
    "\"\"\"\n",
    "DON'T MODIFY ANYTHING IN THIS CELL\n",
    "\"\"\"\n",
    "save_model_path = './image_classification'\n",
    "\n",
    "print('Training...')\n",
    "with tf.Session() as sess:\n",
    "    # Initializing the variables\n",
    "    sess.run(tf.global_variables_initializer())\n",
    "    \n",
    "    # Training cycle\n",
    "    for epoch in range(epochs):\n",
    "        # Loop over all batches\n",
    "        n_batches = 5\n",
    "        for batch_i in range(1, n_batches + 1):\n",
    "            for batch_features, batch_labels in helper.load_preprocess_training_batch(batch_i, batch_size):\n",
    "                train_neural_network(sess, optimizer, keep_probability, batch_features, batch_labels)\n",
    "            print('Epoch {:>2}, CIFAR-10 Batch {}:  '.format(epoch + 1, batch_i), end='')\n",
    "            print_stats(sess, batch_features, batch_labels, cost, accuracy)\n",
    "            \n",
    "    # Save Model\n",
    "    saver = tf.train.Saver()\n",
    "    save_path = saver.save(sess, save_model_path)"
   ]
  },
  {
   "cell_type": "markdown",
   "metadata": {},
   "source": [
    "# Checkpoint\n",
    "The model has been saved to disk.\n",
    "## Test Model\n",
    "Test your model against the test dataset.  This will be your final accuracy. You should have an accuracy greater than 50%. If you don't, keep tweaking the model architecture and parameters."
   ]
  },
  {
   "cell_type": "code",
   "execution_count": 47,
   "metadata": {
    "collapsed": false
   },
   "outputs": [
    {
     "name": "stdout",
     "output_type": "stream",
     "text": [
      "Testing Accuracy: 0.6228703724013435\n",
      "\n"
     ]
    },
    {
     "data": {
      "image/png": "[encoded data removed]",
      "text/plain": [
       "<matplotlib.figure.Figure at 0x22e08ba8278>"
      ]
     },
     "metadata": {
      "image/png": {
       "height": 319,
       "width": 355
      }
     },
     "output_type": "display_data"
    }
   ],
   "source": [
    "\"\"\"\n",
    "DON'T MODIFY ANYTHING IN THIS CELL\n",
    "\"\"\"\n",
    "%matplotlib inline\n",
    "%config InlineBackend.figure_format = 'retina'\n",
    "\n",
    "import tensorflow as tf\n",
    "import pickle\n",
    "import helper\n",
    "import random\n",
    "\n",
    "# Set batch size if not already set\n",
    "try:\n",
    "    if batch_size:\n",
    "        pass\n",
    "except NameError:\n",
    "    batch_size = 64\n",
    "\n",
    "save_model_path = './image_classification'\n",
    "n_samples = 4\n",
    "top_n_predictions = 3\n",
    "\n",
    "def test_model():\n",
    "    \"\"\"\n",
    "    Test the saved model against the test dataset\n",
    "    \"\"\"\n",
    "\n",
    "    test_features, test_labels = pickle.load(open('preprocess_training.p', mode='rb'))\n",
    "    loaded_graph = tf.Graph()\n",
    "\n",
    "    with tf.Session(graph=loaded_graph) as sess:\n",
    "        # Load model\n",
    "        loader = tf.train.import_meta_graph(save_model_path + '.meta')\n",
    "        loader.restore(sess, save_model_path)\n",
    "\n",
    "        # Get Tensors from loaded model\n",
    "        loaded_x = loaded_graph.get_tensor_by_name('x:0')\n",
    "        loaded_y = loaded_graph.get_tensor_by_name('y:0')\n",
    "        loaded_keep_prob = loaded_graph.get_tensor_by_name('keep_prob:0')\n",
    "        loaded_logits = loaded_graph.get_tensor_by_name('logits:0')\n",
    "        loaded_acc = loaded_graph.get_tensor_by_name('accuracy:0')\n",
    "        \n",
    "        # Get accuracy in batches for memory limitations\n",
    "        test_batch_acc_total = 0\n",
    "        test_batch_count = 0\n",
    "        \n",
    "        for train_feature_batch, train_label_batch in helper.batch_features_labels(test_features, test_labels, batch_size):\n",
    "            test_batch_acc_total += sess.run(\n",
    "                loaded_acc,\n",
    "                feed_dict={loaded_x: train_feature_batch, loaded_y: train_label_batch, loaded_keep_prob: 1.0})\n",
    "            test_batch_count += 1\n",
    "\n",
    "        print('Testing Accuracy: {}\\n'.format(test_batch_acc_total/test_batch_count))\n",
    "\n",
    "        # Print Random Samples\n",
    "        random_test_features, random_test_labels = tuple(zip(*random.sample(list(zip(test_features, test_labels)), n_samples)))\n",
    "        random_test_predictions = sess.run(\n",
    "            tf.nn.top_k(tf.nn.softmax(loaded_logits), top_n_predictions),\n",
    "            feed_dict={loaded_x: random_test_features, loaded_y: random_test_labels, loaded_keep_prob: 1.0})\n",
    "        helper.display_image_predictions(random_test_features, random_test_labels, random_test_predictions)\n",
    "\n",
    "\n",
    "test_model()"
   ]
  },
  {
   "cell_type": "markdown",
   "metadata": {},
   "source": [
    "## Why 50-80% Accuracy?\n",
    "You might be wondering why you can't get an accuracy any higher. First things first, 50% isn't bad for a simple CNN.  Pure guessing would get you 10% accuracy. However, you might notice people are getting scores [well above 80%](http://rodrigob.github.io/are_we_there_yet/build/classification_datasets_results.html#43494641522d3130).  That's because we haven't taught you all there is to know about neural networks. We still need to cover a few more techniques.\n",
    "## Submitting This Project\n",
    "When submitting this project, make sure to run all the cells before saving the notebook.  Save the notebook file as \"dlnd_image_classification.ipynb\" and save it as a HTML file under \"File\" -> \"Download as\".  Include the \"helper.py\" and \"problem_unittests.py\" files in your submission."
   ]
  },
  {
   "cell_type": "code",
   "execution_count": 48,
   "metadata": {
    "collapsed": false
   },
   "outputs": [
    {
     "name": "stdout",
     "output_type": "stream",
     "text": [
      "end\n"
     ]
    }
   ],
   "source": [
    "print(\"end\")"
   ]
  },
  {
   "cell_type": "code",
   "execution_count": null,
   "metadata": {
    "collapsed": true
   },
   "outputs": [],
   "source": []
  }
 ],
 "metadata": {
  "anaconda-cloud": {},
  "kernelspec": {
   "display_name": "Python [conda env:tflearn]",
   "language": "python",
   "name": "conda-env-tflearn-py"
  },
  "language_info": {
   "codemirror_mode": {
    "name": "ipython",
    "version": 3
   },
   "file_extension": ".py",
   "mimetype": "text/x-python",
   "name": "python",
   "nbconvert_exporter": "python",
   "pygments_lexer": "ipython3",
   "version": "3.5.2"
  }
 },
 "nbformat": 4,
 "nbformat_minor": 0
}
