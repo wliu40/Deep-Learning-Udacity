{
 "cells": [
  {
   "cell_type": "code",
   "execution_count": 1,
   "metadata": {
    "collapsed": true
   },
   "outputs": [],
   "source": [
    "import tensorflow as tf"
   ]
  },
  {
   "cell_type": "code",
   "execution_count": 2,
   "metadata": {},
   "outputs": [
    {
     "name": "stdout",
     "output_type": "stream",
     "text": [
      "Tensor(\"Const:0\", shape=(), dtype=float32) <dtype: 'float32'>\n",
      "Tensor(\"Const_1:0\", shape=(), dtype=int32)\n",
      "3.0\n",
      "3\n",
      "[3.0, 3]\n"
     ]
    }
   ],
   "source": [
    "var1 = tf.constant(3.0)\n",
    "var2 = tf.constant(3)\n",
    "sess = tf.Session()\n",
    "print(var1,tf.float32)\n",
    "print(var2)\n",
    "print (sess.run(var1))\n",
    "print (sess.run(var2))\n",
    "print (sess.run([var1, var2]))\n"
   ]
  },
  {
   "cell_type": "code",
   "execution_count": 3,
   "metadata": {},
   "outputs": [
    {
     "name": "stdout",
     "output_type": "stream",
     "text": [
      "Tensor(\"Add:0\", shape=(), dtype=float32)\n",
      "7.0\n"
     ]
    }
   ],
   "source": [
    "var3 = tf.constant(4.0)\n",
    "node_add = tf.add(var1,var3) #必须都是tf.float32，否则不能相加\n",
    "print(node_add)\n",
    "print(sess.run(node_add))"
   ]
  },
  {
   "cell_type": "code",
   "execution_count": 25,
   "metadata": {},
   "outputs": [
    {
     "name": "stdout",
     "output_type": "stream",
     "text": [
      "[[ 1.49697721  1.10796535]\n",
      " [-0.49764538 -0.57008994]\n",
      " [-1.11214149  0.37714601]]\n"
     ]
    }
   ],
   "source": [
    "n_features = 3\n",
    "n_labels = 2\n",
    "w = tf.Variable(tf.truncated_normal((3, 2)))\n",
    "init = tf.global_variables_initializer()\n",
    "sess.run(init)\n",
    "print(sess.run(w))"
   ]
  },
  {
   "cell_type": "code",
   "execution_count": 26,
   "metadata": {},
   "outputs": [
    {
     "name": "stdout",
     "output_type": "stream",
     "text": [
      "4.5\n"
     ]
    }
   ],
   "source": [
    "a = tf.placeholder(tf.float32)\n",
    "b = tf.placeholder(tf.float32)\n",
    "c = a+b\n",
    "print(sess.run(c,{a:2.5,b:2.0}))"
   ]
  },
  {
   "cell_type": "code",
   "execution_count": 27,
   "metadata": {},
   "outputs": [
    {
     "name": "stdout",
     "output_type": "stream",
     "text": [
      "[  8.80000019  12.80000019]\n"
     ]
    }
   ],
   "source": [
    "print(sess.run(2*c, {a:[1.0,2.0], b:[3.4, 4.4]}))"
   ]
  },
  {
   "cell_type": "code",
   "execution_count": 28,
   "metadata": {},
   "outputs": [
    {
     "name": "stdout",
     "output_type": "stream",
     "text": [
      "Tensor(\"Variable_4/read:0\", shape=(1,), dtype=float32)\n"
     ]
    }
   ],
   "source": [
    "W = tf.Variable([1.1],tf.float32)\n",
    "print(W)"
   ]
  },
  {
   "cell_type": "code",
   "execution_count": 29,
   "metadata": {
    "collapsed": true
   },
   "outputs": [],
   "source": [
    "b = tf.Variable([2.0],tf.float32)\n",
    "x = tf.placeholder(tf.float32)\n",
    "y = W*x + b\n",
    "\n",
    "n_features = 3\n",
    "n_labels = 2\n",
    "weights = tf.Variable(tf.truncated_normal((n_features, n_labels)))\n",
    "#The tf.truncated_normal() function returns a tensor with random values\n",
    "#from a normal distribution whose magnitude is no more than 2 standard deviations from the mean."
   ]
  },
  {
   "cell_type": "code",
   "execution_count": 30,
   "metadata": {},
   "outputs": [
    {
     "name": "stdout",
     "output_type": "stream",
     "text": [
      "[ 1.10000002]\n"
     ]
    }
   ],
   "source": [
    "#By contrast, variables are not initialized when you call tf.\n",
    "#Variable. To initialize all the variables in a TensorFlow program, you must explicitly call a special operation as\n",
    "init = tf.global_variables_initializer()\n",
    "sess.run(init)\n",
    "print(sess.run(W)) #如果没有init,不能直接运行sess.run(W)"
   ]
  },
  {
   "cell_type": "code",
   "execution_count": 31,
   "metadata": {},
   "outputs": [],
   "source": [
    "sess.run(init)"
   ]
  },
  {
   "cell_type": "code",
   "execution_count": 32,
   "metadata": {},
   "outputs": [
    {
     "name": "stdout",
     "output_type": "stream",
     "text": [
      "[ 3.0999999   4.19999981  5.30000019  6.4000001 ]\n"
     ]
    }
   ],
   "source": [
    "print(sess.run(y, {x:[1,2,3,4]}))"
   ]
  },
  {
   "cell_type": "code",
   "execution_count": 33,
   "metadata": {},
   "outputs": [
    {
     "name": "stdout",
     "output_type": "stream",
     "text": [
      "[[-0.16208541 -0.96316862]\n",
      " [ 1.85286367 -0.53191882]\n",
      " [ 0.26415733  0.36957261]]\n"
     ]
    }
   ],
   "source": [
    "print(sess.run(weights))\n"
   ]
  },
  {
   "cell_type": "code",
   "execution_count": 34,
   "metadata": {},
   "outputs": [
    {
     "name": "stdout",
     "output_type": "stream",
     "text": [
      "10\n"
     ]
    }
   ],
   "source": [
    "a = tf.reduce_sum([1,2,3,4])\n",
    "print(sess.run(a))"
   ]
  },
  {
   "cell_type": "code",
   "execution_count": 35,
   "metadata": {},
   "outputs": [
    {
     "name": "stdout",
     "output_type": "stream",
     "text": [
      "[ 0.65900117  0.24243298  0.09856589]\n"
     ]
    }
   ],
   "source": [
    "logit_data = [2.0, 1.0, 0.1]\n",
    "softmax = tf.nn.softmax(logit_data)\n",
    "print(sess.run(softmax))"
   ]
  },
  {
   "cell_type": "code",
   "execution_count": null,
   "metadata": {
    "collapsed": true
   },
   "outputs": [],
   "source": []
  }
 ],
 "metadata": {
  "anaconda-cloud": {},
  "kernelspec": {
   "display_name": "Python 3",
   "language": "python",
   "name": "python3"
  },
  "language_info": {
   "codemirror_mode": {
    "name": "ipython",
    "version": 3
   },
   "file_extension": ".py",
   "mimetype": "text/x-python",
   "name": "python",
   "nbconvert_exporter": "python",
   "pygments_lexer": "ipython3",
   "version": "3.6.1"
  }
 },
 "nbformat": 4,
 "nbformat_minor": 1
}
