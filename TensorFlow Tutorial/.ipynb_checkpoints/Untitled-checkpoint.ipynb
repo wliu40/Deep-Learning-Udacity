{
 "cells": [
  {
   "cell_type": "code",
   "execution_count": 1,
   "metadata": {
    "collapsed": true
   },
   "outputs": [],
   "source": [
    "import tensorflow as tf"
   ]
  },
  {
   "cell_type": "code",
   "execution_count": 10,
   "metadata": {
    "collapsed": false
   },
   "outputs": [
    {
     "name": "stdout",
     "output_type": "stream",
     "text": [
      "Tensor(\"Const_14:0\", shape=(), dtype=float32) <dtype: 'float32'>\n",
      "Tensor(\"Const_15:0\", shape=(), dtype=int32)\n",
      "3.0\n",
      "3\n",
      "[3.0, 3]\n"
     ]
    }
   ],
   "source": [
    "var1 = tf.constant(3.0)\n",
    "var2 = tf.constant(3)\n",
    "sess = tf.Session()\n",
    "print(var1,tf.float32)\n",
    "print(var2)\n",
    "print (sess.run(var1))\n",
    "print (sess.run(var2))\n",
    "print (sess.run([var1, var2]))\n"
   ]
  },
  {
   "cell_type": "code",
   "execution_count": 13,
   "metadata": {
    "collapsed": false
   },
   "outputs": [
    {
     "name": "stdout",
     "output_type": "stream",
     "text": [
      "Tensor(\"Add_2:0\", shape=(), dtype=float32)\n",
      "7.0\n"
     ]
    }
   ],
   "source": [
    "var3 = tf.constant(4.0)\n",
    "node_add = tf.add(var1,var3) #必须都是tf.float32，否则不能相加\n",
    "print(node_add)\n",
    "print(sess.run(node_add))"
   ]
  },
  {
   "cell_type": "code",
   "execution_count": 15,
   "metadata": {
    "collapsed": false
   },
   "outputs": [
    {
     "name": "stdout",
     "output_type": "stream",
     "text": [
      "3.0\n"
     ]
    }
   ],
   "source": [
    "a = tf.placeholder(tf.float32)\n",
    "b = tf.placeholder(tf.float32)\n",
    "c = a+b\n",
    "print(sess.run(c,{a:1.0,b:2.0}))"
   ]
  },
  {
   "cell_type": "code",
   "execution_count": 16,
   "metadata": {
    "collapsed": false
   },
   "outputs": [
    {
     "name": "stdout",
     "output_type": "stream",
     "text": [
      "[  8.80000019  12.80000019]\n"
     ]
    }
   ],
   "source": [
    "print(sess.run(2*c, {a:[1.0,2.0], b:[3.4, 4.4]}))"
   ]
  },
  {
   "cell_type": "code",
   "execution_count": 18,
   "metadata": {
    "collapsed": false
   },
   "outputs": [
    {
     "name": "stdout",
     "output_type": "stream",
     "text": [
      "Tensor(\"Variable_1/read:0\", shape=(1,), dtype=float32)\n"
     ]
    }
   ],
   "source": [
    "W = tf.Variable([1.1],tf.float32)\n",
    "print(W)"
   ]
  },
  {
   "cell_type": "code",
   "execution_count": 21,
   "metadata": {
    "collapsed": false
   },
   "outputs": [
    {
     "name": "stdout",
     "output_type": "stream",
     "text": [
      "[ 1.10000002]\n"
     ]
    }
   ],
   "source": [
    "#By contrast, variables are not initialized when you call tf.\n",
    "#Variable. To initialize all the variables in a TensorFlow program, you must explicitly call a special operation as\n",
    "init = tf.global_variables_initializer()\n",
    "sess.run(init)\n",
    "print(sess.run(W)) #如果没有init,不能直接运行sess.run(W)"
   ]
  },
  {
   "cell_type": "code",
   "execution_count": 22,
   "metadata": {
    "collapsed": true
   },
   "outputs": [],
   "source": [
    "b = tf.Variable([2.0],tf.float32)\n",
    "x = tf.placeholder(tf.float32)\n",
    "y = W*x + b\n"
   ]
  },
  {
   "cell_type": "code",
   "execution_count": 25,
   "metadata": {
    "collapsed": false
   },
   "outputs": [],
   "source": [
    "sess.run(init)"
   ]
  },
  {
   "cell_type": "code",
   "execution_count": null,
   "metadata": {
    "collapsed": true
   },
   "outputs": [],
   "source": []
  }
 ],
 "metadata": {
  "kernelspec": {
   "display_name": "Python [conda env:tflearn]",
   "language": "python",
   "name": "conda-env-tflearn-py"
  },
  "language_info": {
   "codemirror_mode": {
    "name": "ipython",
    "version": 3
   },
   "file_extension": ".py",
   "mimetype": "text/x-python",
   "name": "python",
   "nbconvert_exporter": "python",
   "pygments_lexer": "ipython3",
   "version": "3.5.2"
  }
 },
 "nbformat": 4,
 "nbformat_minor": 1
}
